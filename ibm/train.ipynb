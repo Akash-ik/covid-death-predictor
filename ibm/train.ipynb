{
 "cells": [
  {
   "cell_type": "code",
   "execution_count": 1,
   "metadata": {},
   "outputs": [],
   "source": [
    "#Import necessary libraries\n",
    "\n",
    "import pandas as pd\n",
    "import seaborn as sns\n",
    "from sklearn.model_selection import train_test_split\n",
    "from sklearn.linear_model import LinearRegression\n",
    "from sklearn.preprocessing import LabelEncoder\n",
    "import matplotlib.pyplot as plt\n",
    "import numpy as np\n",
    "from sklearn.ensemble import RandomForestRegressor\n",
    "from sklearn.metrics import mean_absolute_error"
   ]
  },
  {
   "cell_type": "code",
   "execution_count": 62,
   "metadata": {},
   "outputs": [],
   "source": [
    "#Import cleaned Dataset\n",
    "\n",
    "data = pd.read_csv(\"download.csv\")"
   ]
  },
  {
   "cell_type": "code",
   "execution_count": 63,
   "metadata": {},
   "outputs": [
    {
     "name": "stdout",
     "output_type": "stream",
     "text": [
      "{'Afghanistan': 0, 'Albania': 1, 'Algeria': 2, 'Andorra': 3, 'Angola': 4, 'Anguilla': 5, 'Antigua_and_Barbuda': 6, 'Argentina': 7, 'Armenia': 8, 'Aruba': 9, 'Australia': 10, 'Austria': 11, 'Azerbaijan': 12, 'Bahamas': 13, 'Bahrain': 14, 'Bangladesh': 15, 'Barbados': 16, 'Belarus': 17, 'Belgium': 18, 'Belize': 19, 'Benin': 20, 'Bermuda': 21, 'Bhutan': 22, 'Bolivia': 23, 'Bonaire, Saint Eustatius and Saba': 24, 'Bosnia_and_Herzegovina': 25, 'Botswana': 26, 'Brazil': 27, 'British_Virgin_Islands': 28, 'Brunei_Darussalam': 29, 'Bulgaria': 30, 'Burkina_Faso': 31, 'Burundi': 32, 'Cambodia': 33, 'Cameroon': 34, 'Canada': 35, 'Cape_Verde': 36, 'Cases_on_an_international_conveyance_Japan': 37, 'Cayman_Islands': 38, 'Central_African_Republic': 39, 'Chad': 40, 'Chile': 41, 'China': 42, 'Colombia': 43, 'Comoros': 44, 'Congo': 45, 'Costa_Rica': 46, 'Cote_dIvoire': 47, 'Croatia': 48, 'Cuba': 49, 'Curaçao': 50, 'Cyprus': 51, 'Czechia': 52, 'Democratic_Republic_of_the_Congo': 53, 'Denmark': 54, 'Djibouti': 55, 'Dominica': 56, 'Dominican_Republic': 57, 'Ecuador': 58, 'Egypt': 59, 'El_Salvador': 60, 'Equatorial_Guinea': 61, 'Eritrea': 62, 'Estonia': 63, 'Eswatini': 64, 'Ethiopia': 65, 'Falkland_Islands_(Malvinas)': 66, 'Faroe_Islands': 67, 'Fiji': 68, 'Finland': 69, 'France': 70, 'French_Polynesia': 71, 'Gabon': 72, 'Gambia': 73, 'Georgia': 74, 'Germany': 75, 'Ghana': 76, 'Gibraltar': 77, 'Greece': 78, 'Greenland': 79, 'Grenada': 80, 'Guam': 81, 'Guatemala': 82, 'Guernsey': 83, 'Guinea': 84, 'Guinea_Bissau': 85, 'Guyana': 86, 'Haiti': 87, 'Holy_See': 88, 'Honduras': 89, 'Hungary': 90, 'Iceland': 91, 'India': 92, 'Indonesia': 93, 'Iran': 94, 'Iraq': 95, 'Ireland': 96, 'Isle_of_Man': 97, 'Israel': 98, 'Italy': 99, 'Jamaica': 100, 'Japan': 101, 'Jersey': 102, 'Jordan': 103, 'Kazakhstan': 104, 'Kenya': 105, 'Kosovo': 106, 'Kuwait': 107, 'Kyrgyzstan': 108, 'Laos': 109, 'Latvia': 110, 'Lebanon': 111, 'Lesotho': 112, 'Liberia': 113, 'Libya': 114, 'Liechtenstein': 115, 'Lithuania': 116, 'Luxembourg': 117, 'Madagascar': 118, 'Malawi': 119, 'Malaysia': 120, 'Maldives': 121, 'Mali': 122, 'Malta': 123, 'Mauritania': 124, 'Mauritius': 125, 'Mexico': 126, 'Moldova': 127, 'Monaco': 128, 'Mongolia': 129, 'Montenegro': 130, 'Montserrat': 131, 'Morocco': 132, 'Mozambique': 133, 'Myanmar': 134, 'Namibia': 135, 'Nepal': 136, 'Netherlands': 137, 'New_Caledonia': 138, 'New_Zealand': 139, 'Nicaragua': 140, 'Niger': 141, 'Nigeria': 142, 'North_Macedonia': 143, 'Northern_Mariana_Islands': 144, 'Norway': 145, 'Oman': 146, 'Pakistan': 147, 'Palestine': 148, 'Panama': 149, 'Papua_New_Guinea': 150, 'Paraguay': 151, 'Peru': 152, 'Philippines': 153, 'Poland': 154, 'Portugal': 155, 'Puerto_Rico': 156, 'Qatar': 157, 'Romania': 158, 'Russia': 159, 'Rwanda': 160, 'Saint_Kitts_and_Nevis': 161, 'Saint_Lucia': 162, 'Saint_Vincent_and_the_Grenadines': 163, 'San_Marino': 164, 'Sao_Tome_and_Principe': 165, 'Saudi_Arabia': 166, 'Senegal': 167, 'Serbia': 168, 'Seychelles': 169, 'Sierra_Leone': 170, 'Singapore': 171, 'Sint_Maarten': 172, 'Slovakia': 173, 'Slovenia': 174, 'Somalia': 175, 'South_Africa': 176, 'South_Korea': 177, 'South_Sudan': 178, 'Spain': 179, 'Sri_Lanka': 180, 'Sudan': 181, 'Suriname': 182, 'Sweden': 183, 'Switzerland': 184, 'Syria': 185, 'Taiwan': 186, 'Tajikistan': 187, 'Thailand': 188, 'Timor_Leste': 189, 'Togo': 190, 'Trinidad_and_Tobago': 191, 'Tunisia': 192, 'Turkey': 193, 'Turks_and_Caicos_islands': 194, 'Uganda': 195, 'Ukraine': 196, 'United_Arab_Emirates': 197, 'United_Kingdom': 198, 'United_Republic_of_Tanzania': 199, 'United_States_of_America': 200, 'United_States_Virgin_Islands': 201, 'Uruguay': 202, 'Uzbekistan': 203, 'Venezuela': 204, 'Vietnam': 205, 'Western_Sahara': 206, 'Yemen': 207, 'Zambia': 208, 'Zimbabwe': 209}\n"
     ]
    }
   ],
   "source": [
    "country = {}\n",
    "j=0\n",
    "for i in data.countriesAndTerritories:\n",
    "    if(not i in country.keys()):\n",
    "        country[i] = j\n",
    "        j=j+1\n",
    "print(country)"
   ]
  },
  {
   "cell_type": "code",
   "execution_count": 64,
   "metadata": {},
   "outputs": [
    {
     "name": "stderr",
     "output_type": "stream",
     "text": [
      "C:\\Users\\akash\\Anaconda3\\lib\\site-packages\\ipykernel_launcher.py:2: SettingWithCopyWarning: \n",
      "A value is trying to be set on a copy of a slice from a DataFrame\n",
      "\n",
      "See the caveats in the documentation: http://pandas.pydata.org/pandas-docs/stable/user_guide/indexing.html#returning-a-view-versus-a-copy\n",
      "  \n"
     ]
    }
   ],
   "source": [
    "for i in range(len(data.countriesAndTerritories)):\n",
    "    data.countriesAndTerritories[i] = country[data.countriesAndTerritories[i]]"
   ]
  },
  {
   "cell_type": "code",
   "execution_count": 65,
   "metadata": {},
   "outputs": [
    {
     "data": {
      "text/html": [
       "<div>\n",
       "<style scoped>\n",
       "    .dataframe tbody tr th:only-of-type {\n",
       "        vertical-align: middle;\n",
       "    }\n",
       "\n",
       "    .dataframe tbody tr th {\n",
       "        vertical-align: top;\n",
       "    }\n",
       "\n",
       "    .dataframe thead th {\n",
       "        text-align: right;\n",
       "    }\n",
       "</style>\n",
       "<table border=\"1\" class=\"dataframe\">\n",
       "  <thead>\n",
       "    <tr style=\"text-align: right;\">\n",
       "      <th></th>\n",
       "      <th>dateRep</th>\n",
       "      <th>day</th>\n",
       "      <th>month</th>\n",
       "      <th>year</th>\n",
       "      <th>cases</th>\n",
       "      <th>deaths</th>\n",
       "      <th>countriesAndTerritories</th>\n",
       "      <th>geoId</th>\n",
       "      <th>countryterritoryCode</th>\n",
       "      <th>popData2018</th>\n",
       "      <th>continentExp</th>\n",
       "    </tr>\n",
       "  </thead>\n",
       "  <tbody>\n",
       "    <tr>\n",
       "      <td>0</td>\n",
       "      <td>21-05-2020</td>\n",
       "      <td>21</td>\n",
       "      <td>5</td>\n",
       "      <td>2020</td>\n",
       "      <td>492</td>\n",
       "      <td>9</td>\n",
       "      <td>0</td>\n",
       "      <td>AF</td>\n",
       "      <td>AFG</td>\n",
       "      <td>37172386.0</td>\n",
       "      <td>Asia</td>\n",
       "    </tr>\n",
       "    <tr>\n",
       "      <td>1</td>\n",
       "      <td>20-05-2020</td>\n",
       "      <td>20</td>\n",
       "      <td>5</td>\n",
       "      <td>2020</td>\n",
       "      <td>581</td>\n",
       "      <td>5</td>\n",
       "      <td>0</td>\n",
       "      <td>AF</td>\n",
       "      <td>AFG</td>\n",
       "      <td>37172386.0</td>\n",
       "      <td>Asia</td>\n",
       "    </tr>\n",
       "    <tr>\n",
       "      <td>2</td>\n",
       "      <td>19-05-2020</td>\n",
       "      <td>19</td>\n",
       "      <td>5</td>\n",
       "      <td>2020</td>\n",
       "      <td>408</td>\n",
       "      <td>4</td>\n",
       "      <td>0</td>\n",
       "      <td>AF</td>\n",
       "      <td>AFG</td>\n",
       "      <td>37172386.0</td>\n",
       "      <td>Asia</td>\n",
       "    </tr>\n",
       "    <tr>\n",
       "      <td>3</td>\n",
       "      <td>18-05-2020</td>\n",
       "      <td>18</td>\n",
       "      <td>5</td>\n",
       "      <td>2020</td>\n",
       "      <td>262</td>\n",
       "      <td>1</td>\n",
       "      <td>0</td>\n",
       "      <td>AF</td>\n",
       "      <td>AFG</td>\n",
       "      <td>37172386.0</td>\n",
       "      <td>Asia</td>\n",
       "    </tr>\n",
       "    <tr>\n",
       "      <td>4</td>\n",
       "      <td>17-05-2020</td>\n",
       "      <td>17</td>\n",
       "      <td>5</td>\n",
       "      <td>2020</td>\n",
       "      <td>0</td>\n",
       "      <td>0</td>\n",
       "      <td>0</td>\n",
       "      <td>AF</td>\n",
       "      <td>AFG</td>\n",
       "      <td>37172386.0</td>\n",
       "      <td>Asia</td>\n",
       "    </tr>\n",
       "    <tr>\n",
       "      <td>...</td>\n",
       "      <td>...</td>\n",
       "      <td>...</td>\n",
       "      <td>...</td>\n",
       "      <td>...</td>\n",
       "      <td>...</td>\n",
       "      <td>...</td>\n",
       "      <td>...</td>\n",
       "      <td>...</td>\n",
       "      <td>...</td>\n",
       "      <td>...</td>\n",
       "      <td>...</td>\n",
       "    </tr>\n",
       "    <tr>\n",
       "      <td>18407</td>\n",
       "      <td>25-03-2020</td>\n",
       "      <td>25</td>\n",
       "      <td>3</td>\n",
       "      <td>2020</td>\n",
       "      <td>0</td>\n",
       "      <td>0</td>\n",
       "      <td>209</td>\n",
       "      <td>ZW</td>\n",
       "      <td>ZWE</td>\n",
       "      <td>14439018.0</td>\n",
       "      <td>Africa</td>\n",
       "    </tr>\n",
       "    <tr>\n",
       "      <td>18408</td>\n",
       "      <td>24-03-2020</td>\n",
       "      <td>24</td>\n",
       "      <td>3</td>\n",
       "      <td>2020</td>\n",
       "      <td>0</td>\n",
       "      <td>1</td>\n",
       "      <td>209</td>\n",
       "      <td>ZW</td>\n",
       "      <td>ZWE</td>\n",
       "      <td>14439018.0</td>\n",
       "      <td>Africa</td>\n",
       "    </tr>\n",
       "    <tr>\n",
       "      <td>18409</td>\n",
       "      <td>23-03-2020</td>\n",
       "      <td>23</td>\n",
       "      <td>3</td>\n",
       "      <td>2020</td>\n",
       "      <td>0</td>\n",
       "      <td>0</td>\n",
       "      <td>209</td>\n",
       "      <td>ZW</td>\n",
       "      <td>ZWE</td>\n",
       "      <td>14439018.0</td>\n",
       "      <td>Africa</td>\n",
       "    </tr>\n",
       "    <tr>\n",
       "      <td>18410</td>\n",
       "      <td>22-03-2020</td>\n",
       "      <td>22</td>\n",
       "      <td>3</td>\n",
       "      <td>2020</td>\n",
       "      <td>1</td>\n",
       "      <td>0</td>\n",
       "      <td>209</td>\n",
       "      <td>ZW</td>\n",
       "      <td>ZWE</td>\n",
       "      <td>14439018.0</td>\n",
       "      <td>Africa</td>\n",
       "    </tr>\n",
       "    <tr>\n",
       "      <td>18411</td>\n",
       "      <td>21-03-2020</td>\n",
       "      <td>21</td>\n",
       "      <td>3</td>\n",
       "      <td>2020</td>\n",
       "      <td>1</td>\n",
       "      <td>0</td>\n",
       "      <td>209</td>\n",
       "      <td>ZW</td>\n",
       "      <td>ZWE</td>\n",
       "      <td>14439018.0</td>\n",
       "      <td>Africa</td>\n",
       "    </tr>\n",
       "  </tbody>\n",
       "</table>\n",
       "<p>18412 rows × 11 columns</p>\n",
       "</div>"
      ],
      "text/plain": [
       "          dateRep  day  month  year  cases  deaths countriesAndTerritories  \\\n",
       "0      21-05-2020   21      5  2020    492       9                       0   \n",
       "1      20-05-2020   20      5  2020    581       5                       0   \n",
       "2      19-05-2020   19      5  2020    408       4                       0   \n",
       "3      18-05-2020   18      5  2020    262       1                       0   \n",
       "4      17-05-2020   17      5  2020      0       0                       0   \n",
       "...           ...  ...    ...   ...    ...     ...                     ...   \n",
       "18407  25-03-2020   25      3  2020      0       0                     209   \n",
       "18408  24-03-2020   24      3  2020      0       1                     209   \n",
       "18409  23-03-2020   23      3  2020      0       0                     209   \n",
       "18410  22-03-2020   22      3  2020      1       0                     209   \n",
       "18411  21-03-2020   21      3  2020      1       0                     209   \n",
       "\n",
       "      geoId countryterritoryCode  popData2018 continentExp  \n",
       "0        AF                  AFG   37172386.0         Asia  \n",
       "1        AF                  AFG   37172386.0         Asia  \n",
       "2        AF                  AFG   37172386.0         Asia  \n",
       "3        AF                  AFG   37172386.0         Asia  \n",
       "4        AF                  AFG   37172386.0         Asia  \n",
       "...     ...                  ...          ...          ...  \n",
       "18407    ZW                  ZWE   14439018.0       Africa  \n",
       "18408    ZW                  ZWE   14439018.0       Africa  \n",
       "18409    ZW                  ZWE   14439018.0       Africa  \n",
       "18410    ZW                  ZWE   14439018.0       Africa  \n",
       "18411    ZW                  ZWE   14439018.0       Africa  \n",
       "\n",
       "[18412 rows x 11 columns]"
      ]
     },
     "execution_count": 65,
     "metadata": {},
     "output_type": "execute_result"
    }
   ],
   "source": [
    "data"
   ]
  },
  {
   "cell_type": "code",
   "execution_count": 66,
   "metadata": {},
   "outputs": [],
   "source": [
    "datax = data.drop(labels=['dateRep','year','deaths','popData2018','geoId','countryterritoryCode','continentExp'],axis=1)"
   ]
  },
  {
   "cell_type": "code",
   "execution_count": 67,
   "metadata": {},
   "outputs": [
    {
     "name": "stderr",
     "output_type": "stream",
     "text": [
      "C:\\Users\\akash\\Anaconda3\\lib\\site-packages\\ipykernel_launcher.py:2: SettingWithCopyWarning: \n",
      "A value is trying to be set on a copy of a slice from a DataFrame\n",
      "\n",
      "See the caveats in the documentation: http://pandas.pydata.org/pandas-docs/stable/user_guide/indexing.html#returning-a-view-versus-a-copy\n",
      "  \n"
     ]
    }
   ],
   "source": [
    "for i in range(len(datax.day)):\n",
    "    datax.day[i] = datax.day[i] + 30 * datax.month[i]"
   ]
  },
  {
   "cell_type": "code",
   "execution_count": 68,
   "metadata": {},
   "outputs": [],
   "source": [
    "datax = datax.drop(labels=['month'],axis=1)"
   ]
  },
  {
   "cell_type": "code",
   "execution_count": 69,
   "metadata": {},
   "outputs": [
    {
     "name": "stdout",
     "output_type": "stream",
     "text": [
      "       day  cases countriesAndTerritories\n",
      "0      171    492                       0\n",
      "1      170    581                       0\n",
      "2      169    408                       0\n",
      "3      168    262                       0\n",
      "4      167      0                       0\n",
      "...    ...    ...                     ...\n",
      "18407  115      0                     209\n",
      "18408  114      0                     209\n",
      "18409  113      0                     209\n",
      "18410  112      1                     209\n",
      "18411  111      1                     209\n",
      "\n",
      "[18412 rows x 3 columns]\n"
     ]
    }
   ],
   "source": [
    "print(datax)"
   ]
  },
  {
   "cell_type": "code",
   "execution_count": 70,
   "metadata": {},
   "outputs": [],
   "source": [
    "X_train,X_test,y_train,y_test = train_test_split(datax, data.deaths,train_size=0.7)"
   ]
  },
  {
   "cell_type": "code",
   "execution_count": 71,
   "metadata": {
    "scrolled": true
   },
   "outputs": [
    {
     "name": "stdout",
     "output_type": "stream",
     "text": [
      "       day  cases countriesAndTerritories\n",
      "6406   109      0                      73\n",
      "18373  148      1                     209\n",
      "13921  113     13                     157\n",
      "11646  162     12                     133\n",
      "12129  140      0                     138\n",
      "...    ...    ...                     ...\n",
      "10085  128      1                     114\n",
      "13051  138    456                     147\n",
      "1276    39      0                      12\n",
      "6109   129   3881                      70\n",
      "6978   157      0                      79\n",
      "\n",
      "[12888 rows x 3 columns]\n"
     ]
    }
   ],
   "source": [
    "print(X_train)"
   ]
  },
  {
   "cell_type": "code",
   "execution_count": 72,
   "metadata": {},
   "outputs": [],
   "source": [
    "rf = RandomForestRegressor(n_estimators=100, random_state=0)\n",
    "rf.fit(X_train, y_train)\n",
    "y_pred = rf.predict(X_test)"
   ]
  },
  {
   "cell_type": "code",
   "execution_count": 73,
   "metadata": {},
   "outputs": [
    {
     "name": "stdout",
     "output_type": "stream",
     "text": [
      "0.8230791489959782\n"
     ]
    }
   ],
   "source": [
    "a = rf.score(X_test,y_test)\n",
    "print(a)"
   ]
  },
  {
   "cell_type": "code",
   "execution_count": 74,
   "metadata": {},
   "outputs": [
    {
     "data": {
      "text/html": [
       "<div>\n",
       "<style scoped>\n",
       "    .dataframe tbody tr th:only-of-type {\n",
       "        vertical-align: middle;\n",
       "    }\n",
       "\n",
       "    .dataframe tbody tr th {\n",
       "        vertical-align: top;\n",
       "    }\n",
       "\n",
       "    .dataframe thead th {\n",
       "        text-align: right;\n",
       "    }\n",
       "</style>\n",
       "<table border=\"1\" class=\"dataframe\">\n",
       "  <thead>\n",
       "    <tr style=\"text-align: right;\">\n",
       "      <th></th>\n",
       "      <th>day</th>\n",
       "      <th>cases</th>\n",
       "      <th>countriesAndTerritories</th>\n",
       "    </tr>\n",
       "  </thead>\n",
       "  <tbody>\n",
       "    <tr>\n",
       "      <td>6406</td>\n",
       "      <td>109</td>\n",
       "      <td>0</td>\n",
       "      <td>73</td>\n",
       "    </tr>\n",
       "    <tr>\n",
       "      <td>18373</td>\n",
       "      <td>148</td>\n",
       "      <td>1</td>\n",
       "      <td>209</td>\n",
       "    </tr>\n",
       "    <tr>\n",
       "      <td>13921</td>\n",
       "      <td>113</td>\n",
       "      <td>13</td>\n",
       "      <td>157</td>\n",
       "    </tr>\n",
       "    <tr>\n",
       "      <td>11646</td>\n",
       "      <td>162</td>\n",
       "      <td>12</td>\n",
       "      <td>133</td>\n",
       "    </tr>\n",
       "    <tr>\n",
       "      <td>12129</td>\n",
       "      <td>140</td>\n",
       "      <td>0</td>\n",
       "      <td>138</td>\n",
       "    </tr>\n",
       "    <tr>\n",
       "      <td>...</td>\n",
       "      <td>...</td>\n",
       "      <td>...</td>\n",
       "      <td>...</td>\n",
       "    </tr>\n",
       "    <tr>\n",
       "      <td>10085</td>\n",
       "      <td>128</td>\n",
       "      <td>1</td>\n",
       "      <td>114</td>\n",
       "    </tr>\n",
       "    <tr>\n",
       "      <td>13051</td>\n",
       "      <td>138</td>\n",
       "      <td>456</td>\n",
       "      <td>147</td>\n",
       "    </tr>\n",
       "    <tr>\n",
       "      <td>1276</td>\n",
       "      <td>39</td>\n",
       "      <td>0</td>\n",
       "      <td>12</td>\n",
       "    </tr>\n",
       "    <tr>\n",
       "      <td>6109</td>\n",
       "      <td>129</td>\n",
       "      <td>3881</td>\n",
       "      <td>70</td>\n",
       "    </tr>\n",
       "    <tr>\n",
       "      <td>6978</td>\n",
       "      <td>157</td>\n",
       "      <td>0</td>\n",
       "      <td>79</td>\n",
       "    </tr>\n",
       "  </tbody>\n",
       "</table>\n",
       "<p>12888 rows × 3 columns</p>\n",
       "</div>"
      ],
      "text/plain": [
       "       day  cases countriesAndTerritories\n",
       "6406   109      0                      73\n",
       "18373  148      1                     209\n",
       "13921  113     13                     157\n",
       "11646  162     12                     133\n",
       "12129  140      0                     138\n",
       "...    ...    ...                     ...\n",
       "10085  128      1                     114\n",
       "13051  138    456                     147\n",
       "1276    39      0                      12\n",
       "6109   129   3881                      70\n",
       "6978   157      0                      79\n",
       "\n",
       "[12888 rows x 3 columns]"
      ]
     },
     "execution_count": 74,
     "metadata": {},
     "output_type": "execute_result"
    }
   ],
   "source": [
    "X_train"
   ]
  },
  {
   "cell_type": "code",
   "execution_count": 75,
   "metadata": {},
   "outputs": [],
   "source": [
    "import pickle"
   ]
  },
  {
   "cell_type": "code",
   "execution_count": 76,
   "metadata": {},
   "outputs": [],
   "source": [
    "pickle.dump(rf,open('rf.pkl','wb'))\n",
    "pickle.dump(country,open('country.pkl','wb'))"
   ]
  },
  {
   "cell_type": "code",
   "execution_count": null,
   "metadata": {},
   "outputs": [],
   "source": []
  }
 ],
 "metadata": {
  "kernelspec": {
   "display_name": "Python 3",
   "language": "python",
   "name": "python3"
  },
  "language_info": {
   "codemirror_mode": {
    "name": "ipython",
    "version": 3
   },
   "file_extension": ".py",
   "mimetype": "text/x-python",
   "name": "python",
   "nbconvert_exporter": "python",
   "pygments_lexer": "ipython3",
   "version": "3.7.4"
  }
 },
 "nbformat": 4,
 "nbformat_minor": 2
}
